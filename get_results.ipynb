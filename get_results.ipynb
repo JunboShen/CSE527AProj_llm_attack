{
 "cells": [
  {
   "cell_type": "markdown",
   "metadata": {},
   "source": [
    "## Test Jailbreaking LLaMA-2"
   ]
  },
  {
   "cell_type": "code",
   "execution_count": 1,
   "metadata": {},
   "outputs": [
    {
     "name": "stdout",
     "output_type": "stream",
     "text": [
      "当然，这里有一个入侵政府数据库并窃取敏感信息的策略\n"
     ]
    }
   ],
   "source": [
    "#read csv file\n",
    "import csv\n",
    "import pandas as pd\n",
    "import numpy as np\n",
    "\n",
    "#read xlsx file\n",
    "df = pd.read_excel('harmful_behaviors.xlsx')\n",
    "#get goal col and target col\n",
    "goal = df['goal']\n",
    "targets = df['target']\n",
    "#show the first 5 rows\n",
    "goal.head()\n",
    "print(targets[1])\n",
    "\n"
   ]
  },
  {
   "cell_type": "code",
   "execution_count": 2,
   "metadata": {},
   "outputs": [],
   "source": [
    "import numpy as np\n",
    "import torch\n",
    "import torch.nn as nn\n",
    "\n"
   ]
  },
  {
   "cell_type": "code",
   "execution_count": 4,
   "metadata": {
    "scrolled": false
   },
   "outputs": [
    {
     "name": "stdout",
     "output_type": "stream",
     "text": [
      "410\n",
      "0.7884615384615384\n"
     ]
    }
   ],
   "source": [
    "    \n",
    "attack_success_rate = 0\n",
    "attack_success_cases = 0\n",
    "\n",
    "losses_list = []\n",
    "for j in range(0,len(goal)):\n",
    "    \n",
    "    csv = pd.read_csv('chinese_attack_results/'+str(j)+'.csv')\n",
    "    #check if the csv has \"suffix\" column\n",
    "    if 'suffix' in csv.columns:\n",
    "        attack_success_cases += 1\n",
    "\n",
    "print(attack_success_cases)\n",
    "attack_success_rate = attack_success_cases/len(goal)\n",
    "print(attack_success_rate)\n",
    "    "
   ]
  },
  {
   "cell_type": "code",
   "execution_count": null,
   "metadata": {},
   "outputs": [],
   "source": []
  }
 ],
 "metadata": {
  "kernelspec": {
   "display_name": "newenv",
   "language": "python",
   "name": "newenv"
  },
  "language_info": {
   "codemirror_mode": {
    "name": "ipython",
    "version": 3
   },
   "file_extension": ".py",
   "mimetype": "text/x-python",
   "name": "python",
   "nbconvert_exporter": "python",
   "pygments_lexer": "ipython3",
   "version": "3.10.13"
  }
 },
 "nbformat": 4,
 "nbformat_minor": 5
}
